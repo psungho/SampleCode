{
  "nbformat": 4,
  "nbformat_minor": 0,
  "metadata": {
    "colab": {
      "name": "antitrust_scape.ipynb",
      "provenance": []
    },
    "kernelspec": {
      "name": "python3",
      "display_name": "Python 3"
    }
  },
  "cells": [
    {
      "cell_type": "markdown",
      "metadata": {
        "id": "WRVNnxSLXjON"
      },
      "source": [
        "The recent paper from Besley, Fontana and Limodio (2020, AEJ Insights) uses a database that is avaiable digitally but not in a format able to be read in actively as a .do file. I scrape Hylton and Deng's Antitrust Database-- which is used in the paper, with this code. Note. Various measures of anti-trust that go into the rankings/scores are not scraped. This must be worked on. "
      ]
    },
    {
      "cell_type": "code",
      "metadata": {
        "colab": {
          "base_uri": "https://localhost:8080/"
        },
        "id": "ehqiGEf4QkGa",
        "outputId": "63a3d1db-ee6e-4b2c-bdaf-c3613c17bc65"
      },
      "source": [
        "!pip3 install country_converter"
      ],
      "execution_count": null,
      "outputs": [
        {
          "output_type": "stream",
          "text": [
            "Collecting country_converter\n",
            "\u001b[?25l  Downloading https://files.pythonhosted.org/packages/8d/57/359a3d4507c5c517ba8e95933214f59b5a1b1a8f51c9b8c9031cd34959dc/country_converter-0.7.1.tar.gz (47kB)\n",
            "\r\u001b[K     |██████▉                         | 10kB 15.8MB/s eta 0:00:01\r\u001b[K     |█████████████▊                  | 20kB 12.8MB/s eta 0:00:01\r\u001b[K     |████████████████████▋           | 30kB 8.7MB/s eta 0:00:01\r\u001b[K     |███████████████████████████▌    | 40kB 7.4MB/s eta 0:00:01\r\u001b[K     |████████████████████████████████| 51kB 2.8MB/s \n",
            "\u001b[?25hRequirement already satisfied: pandas>=0.17.0 in /usr/local/lib/python3.6/dist-packages (from country_converter) (1.1.5)\n",
            "Requirement already satisfied: python-dateutil>=2.7.3 in /usr/local/lib/python3.6/dist-packages (from pandas>=0.17.0->country_converter) (2.8.1)\n",
            "Requirement already satisfied: numpy>=1.15.4 in /usr/local/lib/python3.6/dist-packages (from pandas>=0.17.0->country_converter) (1.19.5)\n",
            "Requirement already satisfied: pytz>=2017.2 in /usr/local/lib/python3.6/dist-packages (from pandas>=0.17.0->country_converter) (2018.9)\n",
            "Requirement already satisfied: six>=1.5 in /usr/local/lib/python3.6/dist-packages (from python-dateutil>=2.7.3->pandas>=0.17.0->country_converter) (1.15.0)\n",
            "Building wheels for collected packages: country-converter\n",
            "  Building wheel for country-converter (setup.py) ... \u001b[?25l\u001b[?25hdone\n",
            "  Created wheel for country-converter: filename=country_converter-0.7.1-cp36-none-any.whl size=50807 sha256=c5d17b8f46e8f4e87768dd867c318c72ccc9cc1ec674d6939f0c9e2ce87db291\n",
            "  Stored in directory: /root/.cache/pip/wheels/75/be/cb/3c8d07bca8f2c0670e996a174fed372585b32d3aa03f40996a\n",
            "Successfully built country-converter\n",
            "Installing collected packages: country-converter\n",
            "Successfully installed country-converter-0.7.1\n"
          ],
          "name": "stdout"
        }
      ]
    },
    {
      "cell_type": "code",
      "metadata": {
        "id": "A6FNj_Ug3dv4"
      },
      "source": [
        "import requests\n",
        "from bs4 import BeautifulSoup as bs\n",
        "from urllib.parse import urlparse, urljoin\n",
        "import urllib\n",
        "import  nltk\n",
        "import webbrowser\n",
        "import geograpy\n",
        "import pycountry\n",
        "import pandas as pd\n",
        "from urllib.request import urlopen\n",
        "from geograpy import places\n",
        "from geograpy import extraction\n",
        "import scrapy\n",
        "import re\n",
        "from dateutil.parser import parse\n",
        "import calendar\n",
        "from string import digits\n",
        "from collections import OrderedDict\n",
        "import datetime\n",
        "import country_converter as coco\n"
      ],
      "execution_count": null,
      "outputs": []
    },
    {
      "cell_type": "code",
      "metadata": {
        "id": "SMDbU-eL3yiA"
      },
      "source": [
        "res = requests.get('http://antitrustworldwiki.com/antitrustwiki/index.php/Main_Page')\n",
        "soup = bs(res.text, \"html.parser\")\n",
        "wiki_dict = {}\n",
        "linklist = []\n",
        "for link in soup.find_all(\"a\"):\n",
        "    url = link.get(\"href\", \"\")\n",
        "    if \"antitrustwiki/index.php/\" in url:\n",
        "        wiki_dict[link.text.strip()] = url\n",
        "        linklist.append(wiki_dict)\n",
        "countrylist = pd.DataFrame.from_dict(linklist)\n",
        "#pycountries do not recognize these irregular naming conventions\n",
        "columns= list(country.name for country in pycountry.countries)\n",
        "exceptions = [\"Bolivia\", \"Venezuela\", \"Cote d'Ivoire\", 'Vietnam', 'Iran',\n",
        "              'South Korea','Sudan','Macau','Republic of Ireland', \n",
        "              'Slovak Republic', 'Bosnia-Herzegovina', 'Lao PDR', 'Tanzania', 'Taiwan',\n",
        "              \"Macedonia\", \"Russia\", \"Moldova\", \"Faroe Island\" \"Czech Republic\"]\n",
        "def Union(lst1, lst2): \n",
        "    final_list = lst1 + lst2 \n",
        "    return final_list \n",
        "united_columns = Union(columns, exceptions)\n"
      ],
      "execution_count": null,
      "outputs": []
    },
    {
      "cell_type": "code",
      "metadata": {
        "id": "Hdh0ppeIDYcb"
      },
      "source": [
        "countrylist = countrylist[countrylist.columns.intersection(united_columns)]\n",
        "countrylist= countrylist.drop_duplicates()\n",
        "country_url =  countrylist.values.tolist()[0] \n",
        "string = \"http://antitrustworldwiki.com\"\n",
        "list_url = [string+str(x) for x in country_url]"
      ],
      "execution_count": null,
      "outputs": []
    },
    {
      "cell_type": "code",
      "metadata": {
        "id": "reONKgtcYTXr"
      },
      "source": [
        "wiki_dict2 = {}\n",
        "linklist2 = []\n",
        "for l in list_url:\n",
        "  r = requests.get(l)\n",
        "  soup = bs(r.text, \"html.parser\")\n",
        "  for link in soup.find_all(\"a\"):\n",
        "    url2 = link.get(\"href\", \"\")\n",
        "    if \"antitrustwiki/index.php/\" in url2:\n",
        "        wiki_dict2[link.text.strip()] = url2\n",
        "        linklist2.append(wiki_dict2)\n",
        "countrylist2 = pd.DataFrame.from_dict(linklist2)"
      ],
      "execution_count": null,
      "outputs": []
    },
    {
      "cell_type": "code",
      "metadata": {
        "id": "tEuRWvJ-d8R1"
      },
      "source": [
        "countrylist2= countrylist2.drop_duplicates()\n",
        "country_url2 =  countrylist2.values.tolist()[0] \n",
        "list_url2 = [string+str(x) for x in country_url2]\n",
        "linklist3 = []\n",
        "for x in list_url2:\n",
        "  for y in list_url:\n",
        "    if y in x:\n",
        "      linklist3.append(x)\n",
        "linklist3 = [x for x in linklist3 if \"/EU,\" not in x]"
      ],
      "execution_count": null,
      "outputs": []
    },
    {
      "cell_type": "code",
      "metadata": {
        "id": "AoI28kGiv-da"
      },
      "source": [
        "year=[]\n",
        "appended=[]\n",
        "dicts={}\n",
        "for z in linklist3:\n",
        "  req = requests.get(z)\n",
        "  soup3 = bs(req.text, 'html.parser')\n",
        "  for nat in soup3.find_all('h1'):\n",
        "    for line in soup3.find_all('b'):\n",
        "      if not \"Score\" in line.text:continue  \n",
        "      appended.append([nat.get_text(strip=True), line.get_text(strip=True)])\n"
      ],
      "execution_count": null,
      "outputs": []
    },
    {
      "cell_type": "code",
      "metadata": {
        "colab": {
          "base_uri": "https://localhost:8080/"
        },
        "id": "G4HABYFaeLoG",
        "outputId": "b0ff7eaa-8116-4cc8-8e82-e112e8bed966"
      },
      "source": [
        "appended"
      ],
      "execution_count": null,
      "outputs": [
        {
          "output_type": "execute_result",
          "data": {
            "text/plain": [
              "[['Austria (January 1, 2006)', 'Score = 19'],\n",
              " ['Austria (January 1, 2000)', 'Score = 19'],\n",
              " ['Belgium, 2006', 'Score = 20'],\n",
              " ['Belgium 1999', 'Score = 18'],\n",
              " ['Bulgaria 2003', 'Score = 20'],\n",
              " ['Bulgaria 1998', 'Score = 17'],\n",
              " ['Cyprus (2008)', 'Score = 17'],\n",
              " ['Cyprus (1999)', 'Score = 23'],\n",
              " ['Denmark July 2000', 'Score = 22'],\n",
              " ['Denmark June 2002', 'Score = 22'],\n",
              " ['Denmark August 2005', 'Score = 22'],\n",
              " ['Denmark August 21, 2007', 'Score = 22'],\n",
              " ['Estonia (July 1, 2006)', 'Score = 21'],\n",
              " ['Estonia (June 28, 2004)', 'Score = 21'],\n",
              " ['Estonia (March 8, 2003)', 'Score = 20'],\n",
              " ['Estonia (October 1, 2001)', 'Score = 21'],\n",
              " ['Estonia (October 1, 1998)', 'Score = 20'],\n",
              " ['Finland 1998', 'Score = 21'],\n",
              " ['Finland 2004', 'Score = 19'],\n",
              " ['France, 2005', 'Score = 26'],\n",
              " ['France, 1999', 'Score = 18'],\n",
              " ['France, 1986', 'Score = 19'],\n",
              " ['France, 1977', 'Score = 16'],\n",
              " ['France, 1967', 'Score = 13'],\n",
              " ['France, 1953', 'Score = 12'],\n",
              " ['Germany (December 19, 2000)', 'Score = 19'],\n",
              " ['Germany (July 12, 2005)', 'Score = 19'],\n",
              " ['Greece (1976)', 'Score = 0'],\n",
              " ['Greece (September 26 1977)', 'Score = CALCULATION INCOMPLETE'],\n",
              " ['Greece (August 3, 2000)', 'Score = 19'],\n",
              " ['Greece (August 2, 2006)', 'Score = 19'],\n",
              " ['Hungary (November 1, 2005)', 'Score = 25'],\n",
              " ['Hungary (June 2003)', 'Score = 24'],\n",
              " ['Hungary (Febuary 2001)', 'Score = 20'],\n",
              " ['Hungary (January 1 1997)', 'Score = 20'],\n",
              " ['Ireland (March 11 2006)', 'Score = 20'],\n",
              " ['Ireland (April 10, 2002)', 'Score = 20'],\n",
              " ['Ireland (July 3, 1996)', 'Score = 23'],\n",
              " ['Italy (April 30, 1998)', 'Score = 22'],\n",
              " ['Italy (October 10, 1990)', 'Score = 23'],\n",
              " ['Latvia (May 1, 2004)', 'Score = 21'],\n",
              " ['Latvia (April 10, 2001)', 'Score = 19'],\n",
              " ['Latvia (Jan 1, 1998)', 'Score = 10'],\n",
              " ['Lithuania (April 15, 2004)', 'Score = 21'],\n",
              " ['Lithuania (March 23. 1999)', 'Score = 21'],\n",
              " ['Luxembourg (May 17, 2004)', 'Score = 10'],\n",
              " ['Luxembourg (April 20, 1989)', 'Score = 5'],\n",
              " ['Malta (2007)', 'Score = 20'],\n",
              " ['Malta (January 1, 2003)', 'Score = 19'],\n",
              " ['Malta (February 1, 1995)', 'Score = 14'],\n",
              " ['Netherlands 1999', 'Score = 21'],\n",
              " ['Netherlands 2004', 'Score = 22'],\n",
              " ['Netherlands 2007', 'Score = 22'],\n",
              " ['Poland (April 16, 1993)', 'Score = 17'],\n",
              " ['Poland (February 3, 1995)', 'Score = 18'],\n",
              " ['Poland (December 15, 2000)', 'Score = 20'],\n",
              " ['Poland (February 16, 2007)', 'Score = 22'],\n",
              " ['Portugal (October 29 1993)', 'Score = 20'],\n",
              " ['Portugal (June 11 2003)', 'Score = 20'],\n",
              " ['Romania (December 10, 2003)', 'Score = 22'],\n",
              " ['Slovak Republic (27 February 2001)', 'Score = 19'],\n",
              " ['Slovak Republic (1994)', 'Score = 13'],\n",
              " ['Slovenia (2004)', 'Score = 21'],\n",
              " ['Spain (December 28, 1999)', 'Score = 22'],\n",
              " ['Spain (September 1, 2007)', 'Score = 26'],\n",
              " ['Sweden (August 1, 2005)', 'Score = 21'],\n",
              " ['Sweden (January 1, 2001)', 'Score = 22'],\n",
              " ['Sweden (July 1, 1998)', 'Score = 21'],\n",
              " ['United Kingdom 2002', 'Score = 22'],\n",
              " ['United Kingdom 1998', 'Score = 21'],\n",
              " ['Albania (July 28, 2003)', 'Score = 20'],\n",
              " ['Albania (December 7, 1995)', 'Score = 24'],\n",
              " ['Armenia (November 6, 2000)', 'Score = 17'],\n",
              " ['Belarus December 2002', 'Score = 25'],\n",
              " ['Bosnia-Herzegovina 2001', 'Score = 13'],\n",
              " ['Bosnia-Herzegovina 2005', 'Score = 21'],\n",
              " ['Croatia (July 15, 2003)', 'Score = 20'],\n",
              " ['Croatia (February, 1997)', 'Score = UNKNOWN'],\n",
              " ['Greenland (October 30, 1992)', 'Score = 5'],\n",
              " ['Greenland (2007)', 'Score = 15'],\n",
              " ['Iceland (March 27, 2007)', 'Score = 21'],\n",
              " ['Iceland (December 6, 2000)', 'Score = 18'],\n",
              " ['Macedonia (Jan 1, 2005)', 'Score = 23'],\n",
              " ['Macedonia (April 1, 2000)', 'Score = 17'],\n",
              " ['Moldova (February 29, 1992)', 'Score = 22'],\n",
              " ['Norway 1993', 'Score = 13'],\n",
              " ['Norway 2004', 'Score = 17'],\n",
              " ['Russia (July 26, 2006)', 'Score = 22'],\n",
              " ['Russia (2002)', 'Score = 21'],\n",
              " ['Serbia-Montenegro (September 16, 2005)', 'Score = 19'],\n",
              " ['Serbia, 1996', 'Score = 11'],\n",
              " ['Switzerland (October 6, 1995)', 'Score = 24'],\n",
              " ['Switzerland (2003)', 'Score = 25'],\n",
              " ['Turkey (February 7, 2005)', 'Score = 21'],\n",
              " ['Turkey (December 13, 1994)', 'Score = 20'],\n",
              " ['Ukraine 2001', 'Score = 23'],\n",
              " ['Azerbaijan (October 7, 1997)', 'Score = 20'],\n",
              " ['Bangladesh 1970', 'Score = 14'],\n",
              " ['China (1993, 1997)', 'Score = 8'],\n",
              " ['China (August 1 2008)', 'Score = 23'],\n",
              " ['Hong Kong (2010)', 'Score = 17'],\n",
              " ['Hong Kong (May 1998)', 'Score = 11'],\n",
              " ['India (January 13, 2003)', 'Score = 22'],\n",
              " ['India (July 1991)', 'Score = 11'],\n",
              " ['Indonesia (March 5, 1999)', 'Score = 23'],\n",
              " ['Kazakhstan (July 7, 2006)', 'Score = 24'],\n",
              " ['Kazakhstan (January 19, 2001)', 'Score = 22'],\n",
              " ['Lao PDR (April 2, 2004)', 'Score = 13'],\n",
              " ['Mongolia (May 12, 2000)', 'Score = 18'],\n",
              " ['Mongolia (September 9, 1994)', 'Score = 17'],\n",
              " ['Pakistan (1970)', 'Score = 14'],\n",
              " ['Singapore (January 1, 2006)', 'Score = 12'],\n",
              " ['Singapore (July 1, 2007)', 'Score = 14'],\n",
              " ['South Korea (December 31, 2004)', 'Score = 25'],\n",
              " ['South Korea (August 3, 2007)', 'Score = 25'],\n",
              " ['Sri Lanka (1987)', 'Score = 8'],\n",
              " ['Taiwan (February 6, 2002)', 'Score = 22'],\n",
              " ['Taiwan (April 26, 2000)', 'Score = 21'],\n",
              " ['Tajikistan (November 29, 2000)', 'Score = 20'],\n",
              " ['Thailand (March 15, 1999)', 'Score = 21'],\n",
              " ['Uzbekistan 1996', 'Score = 24'],\n",
              " ['Vietnam (July 1, 2005)', 'Score = 22'],\n",
              " ['Burkina Faso 1994', 'Score = 15'],\n",
              " ['Cameroon (July, 1998)', 'Score = 17'],\n",
              " ['Cameroon (Aug, 1990)', 'Score = 10'],\n",
              " [\"Cote d'Ivoire (December 27, 1991)\", 'Score = 12'],\n",
              " ['Kenya (1990)', 'Score = 18'],\n",
              " ['Malawi (1998)', 'Score = 25'],\n",
              " ['Mali (April 13, 1992)', 'Score = 13'],\n",
              " ['Mauritius (March 14, 2003)', 'Score = 14'],\n",
              " ['Namibia 2003', 'Score = 22'],\n",
              " ['Nigeria 1999', 'Score = 10'],\n",
              " ['Senegal (August 22, 1994)', 'Score = 15'],\n",
              " ['South Africa (2000)', 'Score = 24'],\n",
              " ['South Africa (1979)', 'Score = 12'],\n",
              " ['Tanzania (May 23, 2003)', 'Score = 16'],\n",
              " ['Zambia 1994', 'Score = 20'],\n",
              " ['Zimbabwe 1996', 'Score = 20'],\n",
              " ['Zimbabwe 2001', 'Score = 23'],\n",
              " ['Algeria (January 25, 1995)', 'Score = 15'],\n",
              " ['Egypt (February 15, 2005)', 'Score = 13'],\n",
              " ['Israel (1988)', 'Score = 17'],\n",
              " ['Jordan 2004', 'Score = 23'],\n",
              " ['Morocco (June 5, 2000)', 'Score = 17'],\n",
              " ['Saudi Arabia 2004', 'Score = 20'],\n",
              " ['Tunisia (May 10, 1999)', 'Score = 14'],\n",
              " ['Australia (1974)', 'Score = 25'],\n",
              " ['Fiji 1998', 'Score = 17'],\n",
              " ['New Zealand (2005)', 'Score = 16'],\n",
              " ['New Zealand (1986)', 'Score = 17'],\n",
              " ['Papua New Guinea (2002)', 'Score = 13'],\n",
              " ['Canada (August 23, 2000)', 'Score = 24'],\n",
              " ['Canada (July 4, 1952)', 'Score = 13'],\n",
              " ['Canada (June 13, 1923)', 'Score = 9'],\n",
              " ['Canada (May 4, 1910)', 'Score = 12'],\n",
              " ['Canada, (May 2, 1889)', 'Score = 5'],\n",
              " ['United States 2007', 'Score = 24'],\n",
              " ['United States 1977', 'Score = 25'],\n",
              " ['Barbados 2002', 'Score = 25'],\n",
              " ['Jamaica 2001', 'Score = 20'],\n",
              " ['Trinidad and Tobago, 2007', 'Score = 20'],\n",
              " ['Costa Rica (1994,1996, 2000)', 'Score = 18'],\n",
              " ['El Salvador (January 1, 2006)', 'Score = 18'],\n",
              " ['El Salvador (April 30, 1997)', 'Score = 10'],\n",
              " ['Guatemala ()', 'Score = 8'],\n",
              " ['Honduras 2006', 'Score = 20'],\n",
              " ['Mexico (June 29, 2006)', 'Score = 24'],\n",
              " ['Mexico (March 4, 1999)', 'Score = 23'],\n",
              " ['Nicaragua 2006', 'Score = 20'],\n",
              " ['Panama (2006)', 'Score = 21'],\n",
              " ['Panama (1996, 1998)', 'Score = 18'],\n",
              " ['Argentina (September 16, 1999)', 'Score = 25'],\n",
              " ['Argentina (1980)', 'Score = 10'],\n",
              " ['Bolivia 1994', 'Score = 11'],\n",
              " ['Brazil 1994', 'Score = 19'],\n",
              " ['Brazil 2000', 'Score = 22'],\n",
              " ['Chile (2005)', 'Score = 13'],\n",
              " ['Chile (1973)', 'Score = 13'],\n",
              " ['Colombia (December 30, 1992)', 'Score = 18'],\n",
              " ['Colombia (May 3, 2006)', 'Score = 19'],\n",
              " ['Guyana (2004)', 'Score = 15'],\n",
              " ['Peru (September 3, 1998)', 'Score = 12'],\n",
              " ['Uruguay, 2007', 'Score = 22'],\n",
              " ['Uruguay 2001', 'Score = 15'],\n",
              " ['Venezuela (January 13, 1992)', 'Score = 13']]"
            ]
          },
          "metadata": {
            "tags": []
          },
          "execution_count": 14
        }
      ]
    },
    {
      "cell_type": "code",
      "metadata": {
        "colab": {
          "base_uri": "https://localhost:8080/",
          "height": 419
        },
        "id": "qxKDs-Kf9qoN",
        "outputId": "78acfaac-5a69-465b-beca-eb2575ef7dcb"
      },
      "source": [
        "apd = pd.DataFrame.from_dict(appended)\n",
        "apd[1] = apd1[1].map(lambda x: x.replace('=','').replace('Score','').strip(' '))\n",
        "months = []\n",
        "for i in range(1,12):\n",
        "  months.append(calendar.month_name[i])\n",
        "for x in months:\n",
        "  apd[0] = apd[0].str.replace(x, \"\")\n",
        "apd[0] = apd[0].str.replace(\",\", \"\")\n",
        "apd[0] = apd[0].str.replace(\")\", \"\")\n",
        "apd[0] = apd[0].str.replace(\"(\", \"\")\n",
        "apd"
      ],
      "execution_count": null,
      "outputs": [
        {
          "output_type": "execute_result",
          "data": {
            "text/html": [
              "<div>\n",
              "<style scoped>\n",
              "    .dataframe tbody tr th:only-of-type {\n",
              "        vertical-align: middle;\n",
              "    }\n",
              "\n",
              "    .dataframe tbody tr th {\n",
              "        vertical-align: top;\n",
              "    }\n",
              "\n",
              "    .dataframe thead th {\n",
              "        text-align: right;\n",
              "    }\n",
              "</style>\n",
              "<table border=\"1\" class=\"dataframe\">\n",
              "  <thead>\n",
              "    <tr style=\"text-align: right;\">\n",
              "      <th></th>\n",
              "      <th>0</th>\n",
              "      <th>1</th>\n",
              "    </tr>\n",
              "  </thead>\n",
              "  <tbody>\n",
              "    <tr>\n",
              "      <th>0</th>\n",
              "      <td>Austria  1 2006</td>\n",
              "      <td>19</td>\n",
              "    </tr>\n",
              "    <tr>\n",
              "      <th>1</th>\n",
              "      <td>Austria  1 2000</td>\n",
              "      <td>19</td>\n",
              "    </tr>\n",
              "    <tr>\n",
              "      <th>2</th>\n",
              "      <td>Belgium 2006</td>\n",
              "      <td>20</td>\n",
              "    </tr>\n",
              "    <tr>\n",
              "      <th>3</th>\n",
              "      <td>Belgium 1999</td>\n",
              "      <td>18</td>\n",
              "    </tr>\n",
              "    <tr>\n",
              "      <th>4</th>\n",
              "      <td>Bulgaria 2003</td>\n",
              "      <td>20</td>\n",
              "    </tr>\n",
              "    <tr>\n",
              "      <th>...</th>\n",
              "      <td>...</td>\n",
              "      <td>...</td>\n",
              "    </tr>\n",
              "    <tr>\n",
              "      <th>180</th>\n",
              "      <td>Guyana 2004</td>\n",
              "      <td>15</td>\n",
              "    </tr>\n",
              "    <tr>\n",
              "      <th>181</th>\n",
              "      <td>Peru  3 1998</td>\n",
              "      <td>12</td>\n",
              "    </tr>\n",
              "    <tr>\n",
              "      <th>182</th>\n",
              "      <td>Uruguay 2007</td>\n",
              "      <td>22</td>\n",
              "    </tr>\n",
              "    <tr>\n",
              "      <th>183</th>\n",
              "      <td>Uruguay 2001</td>\n",
              "      <td>15</td>\n",
              "    </tr>\n",
              "    <tr>\n",
              "      <th>184</th>\n",
              "      <td>Venezuela  13 1992</td>\n",
              "      <td>13</td>\n",
              "    </tr>\n",
              "  </tbody>\n",
              "</table>\n",
              "<p>185 rows × 2 columns</p>\n",
              "</div>"
            ],
            "text/plain": [
              "                      0   1\n",
              "0       Austria  1 2006  19\n",
              "1       Austria  1 2000  19\n",
              "2          Belgium 2006  20\n",
              "3          Belgium 1999  18\n",
              "4         Bulgaria 2003  20\n",
              "..                  ...  ..\n",
              "180         Guyana 2004  15\n",
              "181        Peru  3 1998  12\n",
              "182        Uruguay 2007  22\n",
              "183        Uruguay 2001  15\n",
              "184  Venezuela  13 1992  13\n",
              "\n",
              "[185 rows x 2 columns]"
            ]
          },
          "metadata": {
            "tags": []
          },
          "execution_count": 171
        }
      ]
    },
    {
      "cell_type": "code",
      "metadata": {
        "id": "C-ID7WHtJvqb"
      },
      "source": [
        "apd[3] = apd[0].str.extract(\"(\\d\\d\\d\\d)\")\n",
        "apd[0] = apd[0].str.replace('\\d+', '')\n"
      ],
      "execution_count": null,
      "outputs": []
    },
    {
      "cell_type": "markdown",
      "metadata": {
        "id": "RckjUqhha7ax"
      },
      "source": [
        "There is certainly a better way to do this... Code to be optimized"
      ]
    },
    {
      "cell_type": "code",
      "metadata": {
        "colab": {
          "base_uri": "https://localhost:8080/",
          "height": 419
        },
        "id": "HIzBis8ky-RM",
        "outputId": "e003a6a4-ad01-46c8-d347-edc27a7aeedb"
      },
      "source": [
        "apd= apd.rename(columns={1: \"Score\", 0: \"Country\", 3: \"Year\" })\n",
        "apd[\"Country\"] = apd[\"Country\"].str.replace(\"December\", \"\")\n",
        "apd[\"Country\"] = apd[\"Country\"].str.replace(\"February\", \"\")\n",
        "apd[\"Country\"] = apd[\"Country\"].str.replace(\"January\", \"\")\n",
        "apd[\"Country\"] = apd[\"Country\"].str.replace(\"March\", \"\")\n",
        "apd[\"Country\"] = apd[\"Country\"].str.replace(\"April\", \"\")\n",
        "apd[\"Country\"] = apd[\"Country\"].str.replace(\"May\", \"\")\n",
        "apd[\"Country\"] = apd[\"Country\"].str.replace(\"June\", \"\")\n",
        "apd[\"Country\"] = apd[\"Country\"].str.replace(\"July\", \"\")\n",
        "apd[\"Country\"] = apd[\"Country\"].str.replace(\"August\", \"\")\n",
        "apd[\"Country\"] = apd[\"Country\"].str.replace(\"September\", \"\")\n",
        "apd[\"Country\"] = apd[\"Country\"].str.replace(\"October\", \"\")\n",
        "apd[\"Country\"] = apd[\"Country\"].str.replace(\"November\", \"\")\n",
        "apd[\"Country\"] = apd[\"Country\"].str.replace(\"Hungary Febuary\", \"Hungary\")\n",
        "apd[\"Country\"] = apd[\"Country\"].str.replace(\"Jan\", \"\")\n",
        "apd[\"Country\"] = apd[\"Country\"].str.replace(\"Serbia-Montenegro\", \"Serbia\")\n",
        "apd[\"Country\"] = apd[\"Country\"].str.replace(\".\", \"\")\n",
        "apd[\"Country\"] = apd[\"Country\"].str.replace(\"Bosnia-Herzegovina\", \"Bosnia and Herzegovina\")\n",
        "apd[\"Country\"] = apd[\"Country\"].str.replace(\"Lao PDF\", \"Laos\")\n",
        "apd[\"Country\"] = apd[\"Country\"].str.replace(\"South Korea\", \"Korea, Republic of\")\n",
        "apd[\"Country\"] = apd[\"Country\"].str.replace(\"Aug\", \"\")\n",
        "apd\n"
      ],
      "execution_count": null,
      "outputs": [
        {
          "output_type": "execute_result",
          "data": {
            "text/html": [
              "<div>\n",
              "<style scoped>\n",
              "    .dataframe tbody tr th:only-of-type {\n",
              "        vertical-align: middle;\n",
              "    }\n",
              "\n",
              "    .dataframe tbody tr th {\n",
              "        vertical-align: top;\n",
              "    }\n",
              "\n",
              "    .dataframe thead th {\n",
              "        text-align: right;\n",
              "    }\n",
              "</style>\n",
              "<table border=\"1\" class=\"dataframe\">\n",
              "  <thead>\n",
              "    <tr style=\"text-align: right;\">\n",
              "      <th></th>\n",
              "      <th>Country</th>\n",
              "      <th>Score</th>\n",
              "      <th>Year</th>\n",
              "    </tr>\n",
              "  </thead>\n",
              "  <tbody>\n",
              "    <tr>\n",
              "      <th>0</th>\n",
              "      <td>Austria</td>\n",
              "      <td>19</td>\n",
              "      <td>2006</td>\n",
              "    </tr>\n",
              "    <tr>\n",
              "      <th>1</th>\n",
              "      <td>Austria</td>\n",
              "      <td>19</td>\n",
              "      <td>2000</td>\n",
              "    </tr>\n",
              "    <tr>\n",
              "      <th>2</th>\n",
              "      <td>Belgium</td>\n",
              "      <td>20</td>\n",
              "      <td>2006</td>\n",
              "    </tr>\n",
              "    <tr>\n",
              "      <th>3</th>\n",
              "      <td>Belgium</td>\n",
              "      <td>18</td>\n",
              "      <td>1999</td>\n",
              "    </tr>\n",
              "    <tr>\n",
              "      <th>4</th>\n",
              "      <td>Bulgaria</td>\n",
              "      <td>20</td>\n",
              "      <td>2003</td>\n",
              "    </tr>\n",
              "    <tr>\n",
              "      <th>...</th>\n",
              "      <td>...</td>\n",
              "      <td>...</td>\n",
              "      <td>...</td>\n",
              "    </tr>\n",
              "    <tr>\n",
              "      <th>180</th>\n",
              "      <td>Guyana</td>\n",
              "      <td>15</td>\n",
              "      <td>2004</td>\n",
              "    </tr>\n",
              "    <tr>\n",
              "      <th>181</th>\n",
              "      <td>Peru</td>\n",
              "      <td>12</td>\n",
              "      <td>1998</td>\n",
              "    </tr>\n",
              "    <tr>\n",
              "      <th>182</th>\n",
              "      <td>Uruguay</td>\n",
              "      <td>22</td>\n",
              "      <td>2007</td>\n",
              "    </tr>\n",
              "    <tr>\n",
              "      <th>183</th>\n",
              "      <td>Uruguay</td>\n",
              "      <td>15</td>\n",
              "      <td>2001</td>\n",
              "    </tr>\n",
              "    <tr>\n",
              "      <th>184</th>\n",
              "      <td>Venezuela</td>\n",
              "      <td>13</td>\n",
              "      <td>1992</td>\n",
              "    </tr>\n",
              "  </tbody>\n",
              "</table>\n",
              "<p>185 rows × 3 columns</p>\n",
              "</div>"
            ],
            "text/plain": [
              "          Country Score  Year\n",
              "0      Austria       19  2006\n",
              "1      Austria       19  2000\n",
              "2        Belgium     20  2006\n",
              "3        Belgium     18  1999\n",
              "4       Bulgaria     20  2003\n",
              "..            ...   ...   ...\n",
              "180       Guyana     15  2004\n",
              "181       Peru       12  1998\n",
              "182      Uruguay     22  2007\n",
              "183      Uruguay     15  2001\n",
              "184  Venezuela       13  1992\n",
              "\n",
              "[185 rows x 3 columns]"
            ]
          },
          "metadata": {
            "tags": []
          },
          "execution_count": 173
        }
      ]
    },
    {
      "cell_type": "code",
      "metadata": {
        "colab": {
          "base_uri": "https://localhost:8080/"
        },
        "id": "Bp2zVdah1Xvk",
        "outputId": "a775353b-34ac-43d4-bc03-dcef1ceb587c"
      },
      "source": [
        "def do_fuzzy_search(country):\n",
        "    try:\n",
        "        result = pycountry.countries.search_fuzzy(country)\n",
        "    except:\n",
        "        return print('An exception flew by!')\n",
        "        result = \"LAO\"\n",
        "        raise\n",
        "    else:\n",
        "        return result[0].alpha_3\n",
        "apd[\"Country\"] = apd[\"Country\"].apply(lambda country: do_fuzzy_search(country))\n"
      ],
      "execution_count": null,
      "outputs": [
        {
          "output_type": "stream",
          "text": [
            "An exception flew by!\n"
          ],
          "name": "stdout"
        }
      ]
    },
    {
      "cell_type": "code",
      "metadata": {
        "colab": {
          "base_uri": "https://localhost:8080/",
          "height": 17
        },
        "id": "zLaaADxXwx5n",
        "outputId": "8f19fbc8-61c4-4542-ad69-be29538d746f"
      },
      "source": [
        "apd.to_excel('antitrust.xlsx', index=False, encoding='utf-8')\n",
        "apd\n",
        "\n",
        "from google.colab import files\n",
        "files.download('antitrust.xlsx')"
      ],
      "execution_count": null,
      "outputs": [
        {
          "output_type": "display_data",
          "data": {
            "application/javascript": [
              "\n",
              "    async function download(id, filename, size) {\n",
              "      if (!google.colab.kernel.accessAllowed) {\n",
              "        return;\n",
              "      }\n",
              "      const div = document.createElement('div');\n",
              "      const label = document.createElement('label');\n",
              "      label.textContent = `Downloading \"${filename}\": `;\n",
              "      div.appendChild(label);\n",
              "      const progress = document.createElement('progress');\n",
              "      progress.max = size;\n",
              "      div.appendChild(progress);\n",
              "      document.body.appendChild(div);\n",
              "\n",
              "      const buffers = [];\n",
              "      let downloaded = 0;\n",
              "\n",
              "      const channel = await google.colab.kernel.comms.open(id);\n",
              "      // Send a message to notify the kernel that we're ready.\n",
              "      channel.send({})\n",
              "\n",
              "      for await (const message of channel.messages) {\n",
              "        // Send a message to notify the kernel that we're ready.\n",
              "        channel.send({})\n",
              "        if (message.buffers) {\n",
              "          for (const buffer of message.buffers) {\n",
              "            buffers.push(buffer);\n",
              "            downloaded += buffer.byteLength;\n",
              "            progress.value = downloaded;\n",
              "          }\n",
              "        }\n",
              "      }\n",
              "      const blob = new Blob(buffers, {type: 'application/binary'});\n",
              "      const a = document.createElement('a');\n",
              "      a.href = window.URL.createObjectURL(blob);\n",
              "      a.download = filename;\n",
              "      div.appendChild(a);\n",
              "      a.click();\n",
              "      div.remove();\n",
              "    }\n",
              "  "
            ],
            "text/plain": [
              "<IPython.core.display.Javascript object>"
            ]
          },
          "metadata": {
            "tags": []
          }
        },
        {
          "output_type": "display_data",
          "data": {
            "application/javascript": [
              "download(\"download_28b5c2de-1e0a-4d3e-b003-3139569614db\", \"antitrust.xlsx\", 8230)"
            ],
            "text/plain": [
              "<IPython.core.display.Javascript object>"
            ]
          },
          "metadata": {
            "tags": []
          }
        }
      ]
    },
    {
      "cell_type": "code",
      "metadata": {
        "colab": {
          "base_uri": "https://localhost:8080/",
          "height": 17
        },
        "id": "FRdepdoZvz3j",
        "outputId": "ae970685-3874-4765-c732-3ed95d1b0d06"
      },
      "source": [
        ""
      ],
      "execution_count": null,
      "outputs": [
        {
          "output_type": "display_data",
          "data": {
            "application/javascript": [
              "\n",
              "    async function download(id, filename, size) {\n",
              "      if (!google.colab.kernel.accessAllowed) {\n",
              "        return;\n",
              "      }\n",
              "      const div = document.createElement('div');\n",
              "      const label = document.createElement('label');\n",
              "      label.textContent = `Downloading \"${filename}\": `;\n",
              "      div.appendChild(label);\n",
              "      const progress = document.createElement('progress');\n",
              "      progress.max = size;\n",
              "      div.appendChild(progress);\n",
              "      document.body.appendChild(div);\n",
              "\n",
              "      const buffers = [];\n",
              "      let downloaded = 0;\n",
              "\n",
              "      const channel = await google.colab.kernel.comms.open(id);\n",
              "      // Send a message to notify the kernel that we're ready.\n",
              "      channel.send({})\n",
              "\n",
              "      for await (const message of channel.messages) {\n",
              "        // Send a message to notify the kernel that we're ready.\n",
              "        channel.send({})\n",
              "        if (message.buffers) {\n",
              "          for (const buffer of message.buffers) {\n",
              "            buffers.push(buffer);\n",
              "            downloaded += buffer.byteLength;\n",
              "            progress.value = downloaded;\n",
              "          }\n",
              "        }\n",
              "      }\n",
              "      const blob = new Blob(buffers, {type: 'application/binary'});\n",
              "      const a = document.createElement('a');\n",
              "      a.href = window.URL.createObjectURL(blob);\n",
              "      a.download = filename;\n",
              "      div.appendChild(a);\n",
              "      a.click();\n",
              "      div.remove();\n",
              "    }\n",
              "  "
            ],
            "text/plain": [
              "<IPython.core.display.Javascript object>"
            ]
          },
          "metadata": {
            "tags": []
          }
        },
        {
          "output_type": "display_data",
          "data": {
            "application/javascript": [
              "download(\"download_6dfe93bd-fb93-4aa2-af42-1ae1c8e3c3fe\", \"antitrust.xlsx\", 8494)"
            ],
            "text/plain": [
              "<IPython.core.display.Javascript object>"
            ]
          },
          "metadata": {
            "tags": []
          }
        }
      ]
    }
  ]
}